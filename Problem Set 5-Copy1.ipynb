{
 "cells": [
  {
   "cell_type": "code",
   "execution_count": 10,
   "id": "3f96bf40",
   "metadata": {},
   "outputs": [],
   "source": [
    "import numpy as np\n",
    "import pandas as pd\n",
    "import matplotlib.pyplot as plt\n",
    "from numpy import random\n",
    "import math\n",
    "import scipy\n",
    "import itertools\n",
    "import operator\n",
    "from sympy import *\n",
    "import sys"
   ]
  },
  {
   "cell_type": "code",
   "execution_count": 65,
   "id": "d3a54ca0",
   "metadata": {},
   "outputs": [
    {
     "name": "stdout",
     "output_type": "stream",
     "text": [
      "[  0.  20.  60.  70. 130. 180.] [ 0. 20. 40. 10. 60. 50.]\n"
     ]
    }
   ],
   "source": [
    "# Sampling a t from an exponential distribution\n",
    "lam = 3\n",
    "exp_dist = random.exponential(lam, size=5) #This provides a vector with the size representing the number of elements in the list\n",
    "sample_t = 10 * exp_dist.round() # Rounding the samples to the nearest integer then multiplying by 10\n",
    "sample_t = np.insert(sample_t, 0, 0) # Inserting 0 in the sample t at the beginning to indicate the starting point\n",
    "total_sample_t = np.array(list(itertools.accumulate(sample_t))) # Accumulating the samples of t to create a t that is ...\n",
    "# ... continuously increasing over time\n",
    "\n",
    "print(total_sample_t, sample_t)"
   ]
  },
  {
   "cell_type": "code",
   "execution_count": 66,
   "id": "0da00581",
   "metadata": {},
   "outputs": [
    {
     "data": {
      "text/plain": [
       "[<matplotlib.lines.Line2D at 0x21210d3d9a0>]"
      ]
     },
     "execution_count": 66,
     "metadata": {},
     "output_type": "execute_result"
    },
    {
     "data": {
      "image/png": "[encoded data removed]",
      "text/plain": [
       "<Figure size 432x288 with 1 Axes>"
      ]
     },
     "metadata": {
      "needs_background": "light"
     },
     "output_type": "display_data"
    }
   ],
   "source": [
    "mean = [20, 15, 30, 10, 5] # Instantiating the mean values\n",
    "deviation = 1 # Instantiating the standard deviation\n",
    "dt = .1\n",
    "t = np.arange(0, total_sample_t[-1], dt) # Creating a t that is increasing over time with constant intervals\n",
    "y = np.array([]) # Instantiating a y array\n",
    "temp = []\n",
    "i = 0\n",
    "\n",
    "# Creating a loop that populates y\n",
    "while i < len(mean):\n",
    "    sample_size = int(((total_sample_t[i+1] - total_sample_t[i]) / dt).round()) # Creating a sample size to determine the size...\n",
    "    # ...that will be used in the normal distribution to populate y\n",
    "    temp = np.random.normal(loc = mean[i], scale = deviation, size = sample_size) # Sampling from a normal distribution with ...\n",
    "    # ... a specified mean and a constant standard deviation\n",
    "    y = (np.append(y, temp)).flatten() # Populating y with the samples from the normal distribution\n",
    "    i = i + 1\n",
    "    \n",
    "plt.plot(t, y)"
   ]
  },
  {
   "cell_type": "code",
   "execution_count": 67,
   "id": "e912eba9",
   "metadata": {},
   "outputs": [
    {
     "name": "stdout",
     "output_type": "stream",
     "text": [
      "--> changepoint:  699\n",
      "--> changepoint:  599\n",
      "--> changepoint:  1297\n",
      "--> changepoint:  199\n",
      "--> changepoint:  696\n",
      "best K:  6\n",
      "[699, 599, 1297, 199, 696]\n"
     ]
    }
   ],
   "source": [
    "K = 1\n",
    "J = []\n",
    "prev_min_value = 1000000\n",
    "i = 0\n",
    "#np.set_printoptions(threshold=sys.maxsize)\n",
    "\n",
    "# Using a while loop to calculate the BIC and the locations at which the change point occurs: AKA the BIC Algorithm\n",
    "while(True):\n",
    "    \n",
    "    BIC = []\n",
    "    for i in range(1, len(y)):\n",
    "        potential_point = i\n",
    "        if (i not in J):\n",
    "            # Setting up a temporary list with the same values as J to make it easier to work with J values within this loop\n",
    "            temp_J = J.copy()\n",
    "            temp_J.append(i)\n",
    "            temp_J.sort()\n",
    "            \n",
    "            # Finding the number of data points in between each change point\n",
    "            n = []\n",
    "            temp_J.append(len(y))\n",
    "            i = 0\n",
    "            for i in range(len(temp_J)):\n",
    "                if (i != 0):\n",
    "                    \n",
    "                    val = temp_J[i] - temp_J[i - 1]\n",
    "                    n.append(val)\n",
    "                else:\n",
    "                    n.append(temp_J[i])     \n",
    "            temp_J.pop()\n",
    "            \n",
    "            # Finding the variance from the location points, J\n",
    "            variance = []\n",
    "            newtemp = []\n",
    "            newtemp.append(0)\n",
    "            newtemp = newtemp + temp_J\n",
    "            newtemp.append(len(y))\n",
    "            i = 0\n",
    "            for i in range(len(n)): # This loop is using the equation for variance\n",
    "                w = 0\n",
    "                w2 = 0\n",
    "                j = 0\n",
    "                for j in range(int(newtemp[i]), int(newtemp[i+1])):\n",
    "                    w = w + y[j]\n",
    "                    w2 = w2 + y[j]**2\n",
    "                pt1 = w2 / n[i]\n",
    "                pt2 = (w**2) / (n[i]**2)\n",
    "                var = pt1 - pt2 \n",
    "                variance.append(var)\n",
    "            # Calculating S in order to find the BIC     \n",
    "            S = 0\n",
    "            i = 0\n",
    "            for i in range(len(n)):\n",
    "                S = S + n[i] * variance[i]\n",
    "                \n",
    "            # Finding the values of the BIC    \n",
    "            N = len(y)\n",
    "            BIC_eval = N * log(S) + K * log(N)\n",
    "            BIC.append(BIC_eval.evalf())\n",
    "            \n",
    "    min_BIC = BIC.index(min(BIC)) # Finding the index where the minimum BIC occurs which indicates where the changepoint occurs\n",
    "    # If the BIC\n",
    "    if min(BIC) <= prev_min_value: \n",
    "        print(\"--> changepoint: \", min_BIC)\n",
    "        \n",
    "        prev_min_value = min(BIC) # Update the new threshold\n",
    "        J.append(min_BIC) # Put the index where the smallest BIC possible occurs into the location, J.\n",
    "        K += 1\n",
    "    else:\n",
    "        print(\"best K: \", (K))\n",
    "        break\n",
    "print(J)"
   ]
  },
  {
   "cell_type": "code",
   "execution_count": 68,
   "id": "38002645",
   "metadata": {},
   "outputs": [
    {
     "name": "stdout",
     "output_type": "stream",
     "text": [
      "The locations where change points occur: [69.9, 59.900000000000006, 129.70000000000002, 19.900000000000002, 69.60000000000001]\n"
     ]
    },
    {
     "data": {
      "text/plain": [
       "[<matplotlib.lines.Line2D at 0x2120ceb73a0>]"
      ]
     },
     "execution_count": 68,
     "metadata": {},
     "output_type": "execute_result"
    },
    {
     "data": {
      "image/png": "[encoded data removed]",
      "text/plain": [
       "<Figure size 432x288 with 1 Axes>"
      ]
     },
     "metadata": {
      "needs_background": "light"
     },
     "output_type": "display_data"
    }
   ],
   "source": [
    "location = [] # The value of the change_points\n",
    "for i in range(len(J)):\n",
    "    location.append(t[J[i]]) # Since J provides the index at which the lowest BIC occurs, this means that I need to use J[i]...\n",
    "    # ... as the index for t, because J in this case only represents the number of data points until that changepoint...\n",
    "    # ... is reached. So, in order to find the actual time, t, that the change point occurs I need to plug J[i] into t.\n",
    "    locations = t[J[i]] # This is the same reasoning as above. Except I am only using 'locations' to graph my vertical lines...\n",
    "    # ... to plot that one line and it can move onto the next vertical line\n",
    "    plt.axvline(x = locations, linestyle = '--', color = 'r')\n",
    "\n",
    "print(\"The locations where change points occur:\", location)\n",
    "plt.plot(t, y)"
   ]
  },
  {
   "cell_type": "code",
   "execution_count": 69,
   "id": "b09880f1",
   "metadata": {},
   "outputs": [
    {
     "name": "stdout",
     "output_type": "stream",
     "text": [
      "The estimated mean values: [19.938, 14.949, 29.777, 29.353, 10.052, 4.916]\n",
      "The actual mean values: [20, 15, 30, 10, 5]\n",
      "\n",
      "The estimated standard deviation: 1.1499280429638012\n",
      "The actual standard deviation: 1\n"
     ]
    }
   ],
   "source": [
    "# Creating a new temporary list to later help define my final and starting points for my means and standard deviations\n",
    "temp = [0]\n",
    "temp = temp + J\n",
    "temp.append(len(y))\n",
    "temp.sort()\n",
    "\n",
    "# Instantiating the mean, standard deviation, and the difference between the change points to get their distance from each other\n",
    "predicted_mean = []\n",
    "curr_mean = 0\n",
    "predicted_std = []\n",
    "curr_std = 0\n",
    "difference = []\n",
    "i = 0\n",
    "\n",
    "# Creating a loop to find my mean, standard deviation, and difference\n",
    "for i in range(len(temp) - 1):\n",
    "    initial = temp[i]\n",
    "    final = temp[i+1]\n",
    "    \n",
    "    differences = final - initial # Finding the difference between the starting point and where the change point occurs\n",
    "    difference.append(differences)\n",
    "    \n",
    "    curr_mean = np.mean(y[initial : final]) # Finding the mean between the starting point and where the change point occurs\n",
    "    predicted_mean.append(curr_mean)\n",
    "    \n",
    "    curr_std = np.std(y[initial : final])#Finding the standard dev. between the starting point and where the change point occurs\n",
    "    predicted_std.append(curr_std)\n",
    "\n",
    "std = np.mean(predicted_std) # Calculating the average standard deviation across the entire time  \n",
    "\n",
    "print(\"The estimated mean values:\", list(np.around(np.array(predicted_mean), 3)))\n",
    "print(\"The actual mean values:\", mean)\n",
    "print()\n",
    "print(\"The estimated standard deviation:\", std)\n",
    "print(\"The actual standard deviation:\", deviation)"
   ]
  },
  {
   "cell_type": "code",
   "execution_count": 70,
   "id": "fda3d472",
   "metadata": {},
   "outputs": [
    {
     "data": {
      "text/plain": [
       "[<matplotlib.lines.Line2D at 0x2120f92f760>]"
      ]
     },
     "execution_count": 70,
     "metadata": {},
     "output_type": "execute_result"
    },
    {
     "data": {
      "image/png": "[encoded data removed]",
      "text/plain": [
       "<Figure size 432x288 with 1 Axes>"
      ]
     },
     "metadata": {
      "needs_background": "light"
     },
     "output_type": "display_data"
    }
   ],
   "source": [
    "i = 0 \n",
    "x_min = 0\n",
    "x_max = 0\n",
    "# Creating a loop that will reiterate to plot the calculated means against my actual data\n",
    "for i in range(len(difference)):\n",
    "    x_max = x_max + t[difference[i]]\n",
    "    plt.hlines(y = predicted_mean[i], xmin = x_min, xmax = x_max, color = 'black', zorder = 10)\n",
    "    x_min = x_min + t[difference[i]]\n",
    "    \n",
    "# Recreating the vertical lines which indicate where the change points occur    \n",
    "for i in range(len(J)):\n",
    "    location.append(t[J[i]])\n",
    "    locations = t[J[i]]\n",
    "    plt.axvline(x = locations, linestyle = '--', color = 'r')\n",
    "  \n",
    "plt.plot(t, y)"
   ]
  },
  {
   "cell_type": "code",
   "execution_count": null,
   "id": "ecba7157",
   "metadata": {},
   "outputs": [],
   "source": [
    "# Overall, the estimated mean values that I calculated were very close to the mean values that I specified. This also goes\n",
    "# for the standard deviation as well. Additionally, when you plot the calculated mean values against the actual data, as can\n",
    "# be seen above, you can see that the calculated mean is right in the middle between the data points. What this indicates is\n",
    "# that my calculated mean values are proven to be the average of the data point values."
   ]
  }
 ],
 "metadata": {
  "kernelspec": {
   "display_name": "Python 3 (ipykernel)",
   "language": "python",
   "name": "python3"
  },
  "language_info": {
   "codemirror_mode": {
    "name": "ipython",
    "version": 3
   },
   "file_extension": ".py",
   "mimetype": "text/x-python",
   "name": "python",
   "nbconvert_exporter": "python",
   "pygments_lexer": "ipython3",
   "version": "3.9.7"
  }
 },
 "nbformat": 4,
 "nbformat_minor": 5
}
